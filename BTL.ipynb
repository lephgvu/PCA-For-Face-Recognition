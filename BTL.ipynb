{
 "cells": [
  {
   "cell_type": "markdown",
   "id": "a55cfc41",
   "metadata": {},
   "source": [
    "# Phân tích PCA để nhận diện khuôn mặt"
   ]
  },
  {
   "cell_type": "markdown",
   "id": "79f83515",
   "metadata": {},
   "source": [
    "### Bước 1: Cài đặt thư viện"
   ]
  },
  {
   "cell_type": "code",
   "execution_count": 1,
   "id": "96d0286b",
   "metadata": {},
   "outputs": [],
   "source": [
    "import os \n",
    "import cv2\n",
    "import numpy as np\n",
    "import matplotlib.pyplot as plt\n",
    "from sklearn.decomposition import PCA\n",
    "import pickle"
   ]
  },
  {
   "cell_type": "markdown",
   "id": "39ede383",
   "metadata": {},
   "source": [
    "### Bước 2: Đọc ảnh và tiền xử lý dữ liệu\n",
    "\n"
   ]
  },
  {
   "cell_type": "code",
   "execution_count": 12,
   "id": "92958f1e",
   "metadata": {},
   "outputs": [
    {
     "name": "stdout",
     "output_type": "stream",
     "text": [
      "Tổng số sinh viên: 6\n",
      "Tổng số ảnh đã nạp: 6\n",
      "Kích thước gốc (chỉ cần xét ảnh đầu tiên): (250, 200)\n",
      "Kích thước sau xử lý: (100, 100)\n"
     ]
    }
   ],
   "source": [
    "DATASET_DIR = 'dataset'\n",
    "IMG_SIZE = (100, 100)  # Resize về 100x100\n",
    "\n",
    "X, y = [], []\n",
    "label_map = {}\n",
    "\n",
    "image_shapes = []\n",
    "\n",
    "for idx, student in enumerate(os.listdir(DATASET_DIR)):\n",
    "    label_map[idx] = student\n",
    "    folder = os.path.join(DATASET_DIR, student)\n",
    "    for file in os.listdir(folder):\n",
    "        img_path = os.path.join(folder, file)\n",
    "        img = cv2.imread(img_path, cv2.IMREAD_GRAYSCALE)\n",
    "        if img is None:\n",
    "            continue\n",
    "        image_shapes.append(img.shape)  # Lưu lại kích thước gốc\n",
    "        \n",
    "        img = cv2.resize(img, IMG_SIZE)\n",
    "        X.append(img.flatten())\n",
    "        y.append(idx)\n",
    "\n",
    "X = np.array(X)\n",
    "y = np.array(y)\n",
    "\n",
    "print(f\"Tổng số sinh viên: {len(label_map)}\")\n",
    "print(f\"Tổng số ảnh đã nạp: {len(X)}\")\n",
    "print(f\"Kích thước gốc (chỉ cần xét ảnh đầu tiên): {image_shapes[0] if image_shapes else 'Không có ảnh'}\")\n",
    "print(f\"Kích thước sau xử lý: {IMG_SIZE}\")"
   ]
  },
  {
   "cell_type": "markdown",
   "id": "985f085e",
   "metadata": {},
   "source": [
    "### Bước 3: Huấn luyện PCA và lưu model"
   ]
  },
  {
   "cell_type": "code",
   "execution_count": 14,
   "id": "d30af67c",
   "metadata": {},
   "outputs": [
    {
     "name": "stdout",
     "output_type": "stream",
     "text": [
      "Đã huấn luyện PCA và lưu model thành công!\n"
     ]
    }
   ],
   "source": [
    "pca = PCA(n_components=5)\n",
    "X_pca = pca.fit_transform(X)\n",
    "\n",
    "# Lưu model\n",
    "with open('model.pkl', 'wb') as f:\n",
    "    pickle.dump((pca, X_pca, y, label_map), f)\n",
    "\n",
    "print(\"Đã huấn luyện PCA và lưu model thành công!\")\n"
   ]
  },
  {
   "cell_type": "markdown",
   "id": "09c59fb9",
   "metadata": {},
   "source": [
    "### Bước 4: Nhận diện khuôn mặt từ ảnh mới"
   ]
  },
  {
   "cell_type": "code",
   "execution_count": 23,
   "id": "cefb4e31",
   "metadata": {},
   "outputs": [
    {
     "name": "stdout",
     "output_type": "stream",
     "text": [
      "Ảnh test được nhận diện là: studentA\n"
     ]
    }
   ],
   "source": [
    "# Tải model\n",
    "with open('model.pkl', 'rb') as f:\n",
    "    pca, X_pca, y, label_map = pickle.load(f)\n",
    "\n",
    "# Nhận diện ảnh test\n",
    "test_img = cv2.imread('test_face_1a.png', cv2.IMREAD_GRAYSCALE)\n",
    "test_img = cv2.resize(test_img, IMG_SIZE)\n",
    "test_flat = test_img.flatten()\n",
    "test_pca = pca.transform([test_flat])\n",
    "\n",
    "# So sánh\n",
    "distances = np.linalg.norm(X_pca - test_pca, axis=1)\n",
    "min_index = np.argmin(distances)\n",
    "predicted_id = y[min_index]\n",
    "predicted_name = label_map[predicted_id]\n",
    "\n",
    "print(f\"Ảnh test được nhận diện là: {predicted_name}\")"
   ]
  },
  {
   "cell_type": "code",
   "execution_count": null,
   "id": "57391779",
   "metadata": {},
   "outputs": [],
   "source": []
  }
 ],
 "metadata": {
  "kernelspec": {
   "display_name": "Python 3",
   "language": "python",
   "name": "python3"
  },
  "language_info": {
   "codemirror_mode": {
    "name": "ipython",
    "version": 3
   },
   "file_extension": ".py",
   "mimetype": "text/x-python",
   "name": "python",
   "nbconvert_exporter": "python",
   "pygments_lexer": "ipython3",
   "version": "3.13.1"
  }
 },
 "nbformat": 4,
 "nbformat_minor": 5
}
