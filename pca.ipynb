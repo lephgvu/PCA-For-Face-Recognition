{
 "cells": [
  {
   "cell_type": "markdown",
   "id": "b35bfdab",
   "metadata": {},
   "source": [
    "### 1. Import thư viện cần thiết"
   ]
  },
  {
   "cell_type": "code",
   "execution_count": 37,
   "id": "bde5529f",
   "metadata": {},
   "outputs": [],
   "source": [
    "import cv2 \n",
    "import numpy as np"
   ]
  },
  {
   "cell_type": "markdown",
   "id": "7bacc236",
   "metadata": {},
   "source": [
    "### 2. Đọc và chuyển sang ảnh xám "
   ]
  },
  {
   "cell_type": "code",
   "execution_count": 38,
   "id": "0d4800e1",
   "metadata": {},
   "outputs": [],
   "source": [
    "img = cv2.imread('D:/python_project/PCA_For_Face_Recognition/test.jpg')\n",
    "gray = cv2.cvtColor(img, cv2.COLOR_BGR2GRAY)  # Chuyển đổi ảnh sang thang độ xám"
   ]
  },
  {
   "cell_type": "markdown",
   "id": "8ac61bdd",
   "metadata": {},
   "source": [
    "### 3. Tạo bộ ảnh phát hiện khuôn mặt (Haar cascade)"
   ]
  },
  {
   "cell_type": "code",
   "execution_count": 39,
   "id": "94a95bbd",
   "metadata": {},
   "outputs": [],
   "source": [
    "face_cascade = cv2.CascadeClassifier(cv2.data.haarcascades + 'haarcascade_frontalface_default.xml')"
   ]
  },
  {
   "cell_type": "markdown",
   "id": "bbbc27fc",
   "metadata": {},
   "source": [
    "### 4. Phát hiện khuôn mặt trong ảnh "
   ]
  },
  {
   "cell_type": "code",
   "execution_count": 40,
   "id": "c6d2868f",
   "metadata": {},
   "outputs": [],
   "source": [
    "faces = face_cascade.detectMultiScale(gray, \n",
    "                                      scaleFactor=1.2, # Tỷ lệ thu phóng trong khoảng 1.1-1.3, ảnh sẽ giảm 20% mỗi lần, giúp phát hiện khuôn mặt nhỏ hơn nhưng chậm\n",
    "                                      minNeighbors=6, # Số lượng vùng lân cận cần thiết để xác định một khuôn mặt, giá trị từ 3-6, giá trị cao hơn sẽ giảm số lượng phát hiện nhưng tăng độ chính xác\n",
    "                                      minSize=(20, 20)) # Kích thước tối thiểu của khuôn mặt, giá trị này có thể điều chỉnh tùy theo kích thước khuôn mặt trong ảnh\n",
    "\n",
    "# Kết quả trả về danh sách các tọa độ (x, y, w, h) của các khuôn mặt phát hiện được"
   ]
  },
  {
   "cell_type": "markdown",
   "id": "a180ba1c",
   "metadata": {},
   "source": [
    "### 5. Tiền xử lý từng khuôn mặt (chuẩn bị cho PCA)"
   ]
  },
  {
   "cell_type": "code",
   "execution_count": 41,
   "id": "a1da5517",
   "metadata": {},
   "outputs": [],
   "source": [
    "common_size = (100, 100) # Chuẩn hóa kích thước khuôn mặt\n",
    "face_images = [] # Danh sách lưu trữ các ảnh khuôn mặt đã chuẩn hóa\n",
    "threshold_energy = 1e6 # Ngưỡng năng lượng để lọc ra những vùng không phải mặt"
   ]
  },
  {
   "cell_type": "markdown",
   "id": "9d5989ea",
   "metadata": {},
   "source": [
    "### 6. Xử lý từng khuôn mặt phát hiện được "
   ]
  },
  {
   "cell_type": "code",
   "execution_count": 42,
   "id": "21090d71",
   "metadata": {},
   "outputs": [],
   "source": [
    "for (x, y, w, h) in faces:\n",
    "    face = img[y:y+h, x:x+w] # Cắt khuôn mặt từ ảnh gốc\n",
    "    face_resized = cv2.resize(face, common_size) # Chuẩn hóa kích thước khuôn mặt\n",
    "    face_gray = cv2.cvtColor(face_resized, cv2.COLOR_BGR2GRAY) # Chuyển đổi khuôn mặt sang thang độ xám\n",
    "    face_vector = face_gray.flatten().astype(np.float32) # Chuyển đổi khuôn mặt thành vector\n",
    "\n",
    "    # Chuẩn hóa\n",
    "    face_mean = np.mean(face_vector) # Tính giá trị trung bình của vector khuôn mặt\n",
    "    face_normalized = face_vector - face_mean # Chuẩn hóa vector khuôn mặt bằng cách trừ đi giá trị trung bình\n",
    "    energy = np.linalg.norm(face_normalized) ** 2 # Tính năng lượng của khuôn mặt\n",
    "    face_images.append((face_normalized, energy, (x, y, w, h))) # Lưu trữ khuôn mặt đã chuẩn hóa, năng lượng và tọa độ của khuôn mặt trong danh sách"
   ]
  },
  {
   "cell_type": "markdown",
   "id": "a0cc1315",
   "metadata": {},
   "source": [
    "### 7. Đếm khuôn mặt có năng lượng lớn hơn ngưỡng "
   ]
  },
  {
   "cell_type": "code",
   "execution_count": 43,
   "id": "3ba35af9",
   "metadata": {},
   "outputs": [
    {
     "name": "stdout",
     "output_type": "stream",
     "text": [
      "Number of faces recognized: 8\n"
     ]
    }
   ],
   "source": [
    "num_detected_faces = sum(energy > threshold_energy for (_, energy, _) in face_images) # Chỉ đếm những vùng khuôn mặt có năng lượng đủ lớn → loại bỏ mặt giả, mặt mờ, ảnh nhiễu.\n",
    "print('Number of faces recognized:', num_detected_faces)"
   ]
  },
  {
   "cell_type": "markdown",
   "id": "f18e9adc",
   "metadata": {},
   "source": [
    "### 8. Hiển thị khuôn mặt được nhận diện"
   ]
  },
  {
   "cell_type": "code",
   "execution_count": 44,
   "id": "16713422",
   "metadata": {},
   "outputs": [],
   "source": [
    "for (_, energy, (x, y, w, h)) in face_images:\n",
    "    if energy > threshold_energy:\n",
    "        cv2.rectangle(img, (x, y), (x + w, y + h), (0, 255, 0), 2)\n",
    "        cv2.putText(img, 'Face', (x, y - 10), cv2.FONT_HERSHEY_SIMPLEX, 0.5, (0, 255, 0), 2)"
   ]
  },
  {
   "cell_type": "markdown",
   "id": "28deb7ed",
   "metadata": {},
   "source": [
    "### 9. Hiển thị ảnh kết quả"
   ]
  },
  {
   "cell_type": "code",
   "execution_count": 45,
   "id": "4e3685a6",
   "metadata": {},
   "outputs": [],
   "source": [
    "cv2.imshow('Result', img)\n",
    "cv2.waitKey(0)\n",
    "cv2.destroyAllWindows()"
   ]
  }
 ],
 "metadata": {
  "kernelspec": {
   "display_name": "Python 3",
   "language": "python",
   "name": "python3"
  },
  "language_info": {
   "codemirror_mode": {
    "name": "ipython",
    "version": 3
   },
   "file_extension": ".py",
   "mimetype": "text/x-python",
   "name": "python",
   "nbconvert_exporter": "python",
   "pygments_lexer": "ipython3",
   "version": "3.13.1"
  }
 },
 "nbformat": 4,
 "nbformat_minor": 5
}
